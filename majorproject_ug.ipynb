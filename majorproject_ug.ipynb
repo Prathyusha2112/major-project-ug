{
  "nbformat": 4,
  "nbformat_minor": 0,
  "metadata": {
    "colab": {
      "provenance": []
    },
    "kernelspec": {
      "name": "python3",
      "display_name": "Python 3"
    },
    "language_info": {
      "name": "python"
    }
  },
  "cells": [
    {
      "cell_type": "code",
      "execution_count": null,
      "metadata": {
        "id": "lInHJFRb9WxK"
      },
      "outputs": [],
      "source": [
        "import numpy as np\n",
        "import pandas as pd\n",
        "import matplotlib.pyplot as plt"
      ]
    },
    {
      "cell_type": "code",
      "source": [
        "data=pd.read_csv('/content/train_set.csv')"
      ],
      "metadata": {
        "id": "KmaYUQyR9tvY"
      },
      "execution_count": null,
      "outputs": []
    },
    {
      "cell_type": "code",
      "source": [
        "data"
      ],
      "metadata": {
        "colab": {
          "base_uri": "https://localhost:8080/",
          "height": 423
        },
        "id": "j_dmHPkD9__f",
        "outputId": "b274a775-43cd-43bf-9e1b-84607887857d"
      },
      "execution_count": null,
      "outputs": [
        {
          "output_type": "execute_result",
          "data": {
            "text/html": [
              "\n",
              "  <div id=\"df-3aad66c8-689a-4fa1-8d2f-3408d0dc1a4c\">\n",
              "    <div class=\"colab-df-container\">\n",
              "      <div>\n",
              "<style scoped>\n",
              "    .dataframe tbody tr th:only-of-type {\n",
              "        vertical-align: middle;\n",
              "    }\n",
              "\n",
              "    .dataframe tbody tr th {\n",
              "        vertical-align: top;\n",
              "    }\n",
              "\n",
              "    .dataframe thead th {\n",
              "        text-align: right;\n",
              "    }\n",
              "</style>\n",
              "<table border=\"1\" class=\"dataframe\">\n",
              "  <thead>\n",
              "    <tr style=\"text-align: right;\">\n",
              "      <th></th>\n",
              "      <th>Date</th>\n",
              "      <th>Day</th>\n",
              "      <th>CodedDay</th>\n",
              "      <th>Zone</th>\n",
              "      <th>Weather</th>\n",
              "      <th>Temperature</th>\n",
              "      <th>Traffic</th>\n",
              "    </tr>\n",
              "  </thead>\n",
              "  <tbody>\n",
              "    <tr>\n",
              "      <th>0</th>\n",
              "      <td>1-01-2017</td>\n",
              "      <td>Sunday</td>\n",
              "      <td>7</td>\n",
              "      <td>1</td>\n",
              "      <td>21</td>\n",
              "      <td>17</td>\n",
              "      <td>1</td>\n",
              "    </tr>\n",
              "    <tr>\n",
              "      <th>1</th>\n",
              "      <td>1-01-2017</td>\n",
              "      <td>Sunday</td>\n",
              "      <td>7</td>\n",
              "      <td>2</td>\n",
              "      <td>12</td>\n",
              "      <td>34</td>\n",
              "      <td>2</td>\n",
              "    </tr>\n",
              "    <tr>\n",
              "      <th>2</th>\n",
              "      <td>1-01-2017</td>\n",
              "      <td>Sunday</td>\n",
              "      <td>7</td>\n",
              "      <td>3</td>\n",
              "      <td>25</td>\n",
              "      <td>24</td>\n",
              "      <td>2</td>\n",
              "    </tr>\n",
              "    <tr>\n",
              "      <th>3</th>\n",
              "      <td>1-01-2017</td>\n",
              "      <td>Sunday</td>\n",
              "      <td>7</td>\n",
              "      <td>4</td>\n",
              "      <td>46</td>\n",
              "      <td>41</td>\n",
              "      <td>4</td>\n",
              "    </tr>\n",
              "    <tr>\n",
              "      <th>4</th>\n",
              "      <td>1-01-2017</td>\n",
              "      <td>Sunday</td>\n",
              "      <td>7</td>\n",
              "      <td>5</td>\n",
              "      <td>33</td>\n",
              "      <td>19</td>\n",
              "      <td>3</td>\n",
              "    </tr>\n",
              "    <tr>\n",
              "      <th>...</th>\n",
              "      <td>...</td>\n",
              "      <td>...</td>\n",
              "      <td>...</td>\n",
              "      <td>...</td>\n",
              "      <td>...</td>\n",
              "      <td>...</td>\n",
              "      <td>...</td>\n",
              "    </tr>\n",
              "    <tr>\n",
              "      <th>52411</th>\n",
              "      <td>31-12-2017</td>\n",
              "      <td>Saturday</td>\n",
              "      <td>6</td>\n",
              "      <td>140</td>\n",
              "      <td>15</td>\n",
              "      <td>35</td>\n",
              "      <td>2</td>\n",
              "    </tr>\n",
              "    <tr>\n",
              "      <th>52412</th>\n",
              "      <td>31-12-2017</td>\n",
              "      <td>Saturday</td>\n",
              "      <td>6</td>\n",
              "      <td>141</td>\n",
              "      <td>27</td>\n",
              "      <td>11</td>\n",
              "      <td>4</td>\n",
              "    </tr>\n",
              "    <tr>\n",
              "      <th>52413</th>\n",
              "      <td>31-12-2017</td>\n",
              "      <td>Saturday</td>\n",
              "      <td>6</td>\n",
              "      <td>142</td>\n",
              "      <td>25</td>\n",
              "      <td>12</td>\n",
              "      <td>3</td>\n",
              "    </tr>\n",
              "    <tr>\n",
              "      <th>52414</th>\n",
              "      <td>31-12-2017</td>\n",
              "      <td>Saturday</td>\n",
              "      <td>6</td>\n",
              "      <td>143</td>\n",
              "      <td>24</td>\n",
              "      <td>28</td>\n",
              "      <td>1</td>\n",
              "    </tr>\n",
              "    <tr>\n",
              "      <th>52415</th>\n",
              "      <td>31-12-2017</td>\n",
              "      <td>Saturday</td>\n",
              "      <td>6</td>\n",
              "      <td>144</td>\n",
              "      <td>14</td>\n",
              "      <td>24</td>\n",
              "      <td>1</td>\n",
              "    </tr>\n",
              "  </tbody>\n",
              "</table>\n",
              "<p>52416 rows × 7 columns</p>\n",
              "</div>\n",
              "      <button class=\"colab-df-convert\" onclick=\"convertToInteractive('df-3aad66c8-689a-4fa1-8d2f-3408d0dc1a4c')\"\n",
              "              title=\"Convert this dataframe to an interactive table.\"\n",
              "              style=\"display:none;\">\n",
              "        \n",
              "  <svg xmlns=\"http://www.w3.org/2000/svg\" height=\"24px\"viewBox=\"0 0 24 24\"\n",
              "       width=\"24px\">\n",
              "    <path d=\"M0 0h24v24H0V0z\" fill=\"none\"/>\n",
              "    <path d=\"M18.56 5.44l.94 2.06.94-2.06 2.06-.94-2.06-.94-.94-2.06-.94 2.06-2.06.94zm-11 1L8.5 8.5l.94-2.06 2.06-.94-2.06-.94L8.5 2.5l-.94 2.06-2.06.94zm10 10l.94 2.06.94-2.06 2.06-.94-2.06-.94-.94-2.06-.94 2.06-2.06.94z\"/><path d=\"M17.41 7.96l-1.37-1.37c-.4-.4-.92-.59-1.43-.59-.52 0-1.04.2-1.43.59L10.3 9.45l-7.72 7.72c-.78.78-.78 2.05 0 2.83L4 21.41c.39.39.9.59 1.41.59.51 0 1.02-.2 1.41-.59l7.78-7.78 2.81-2.81c.8-.78.8-2.07 0-2.86zM5.41 20L4 18.59l7.72-7.72 1.47 1.35L5.41 20z\"/>\n",
              "  </svg>\n",
              "      </button>\n",
              "      \n",
              "  <style>\n",
              "    .colab-df-container {\n",
              "      display:flex;\n",
              "      flex-wrap:wrap;\n",
              "      gap: 12px;\n",
              "    }\n",
              "\n",
              "    .colab-df-convert {\n",
              "      background-color: #E8F0FE;\n",
              "      border: none;\n",
              "      border-radius: 50%;\n",
              "      cursor: pointer;\n",
              "      display: none;\n",
              "      fill: #1967D2;\n",
              "      height: 32px;\n",
              "      padding: 0 0 0 0;\n",
              "      width: 32px;\n",
              "    }\n",
              "\n",
              "    .colab-df-convert:hover {\n",
              "      background-color: #E2EBFA;\n",
              "      box-shadow: 0px 1px 2px rgba(60, 64, 67, 0.3), 0px 1px 3px 1px rgba(60, 64, 67, 0.15);\n",
              "      fill: #174EA6;\n",
              "    }\n",
              "\n",
              "    [theme=dark] .colab-df-convert {\n",
              "      background-color: #3B4455;\n",
              "      fill: #D2E3FC;\n",
              "    }\n",
              "\n",
              "    [theme=dark] .colab-df-convert:hover {\n",
              "      background-color: #434B5C;\n",
              "      box-shadow: 0px 1px 3px 1px rgba(0, 0, 0, 0.15);\n",
              "      filter: drop-shadow(0px 1px 2px rgba(0, 0, 0, 0.3));\n",
              "      fill: #FFFFFF;\n",
              "    }\n",
              "  </style>\n",
              "\n",
              "      <script>\n",
              "        const buttonEl =\n",
              "          document.querySelector('#df-3aad66c8-689a-4fa1-8d2f-3408d0dc1a4c button.colab-df-convert');\n",
              "        buttonEl.style.display =\n",
              "          google.colab.kernel.accessAllowed ? 'block' : 'none';\n",
              "\n",
              "        async function convertToInteractive(key) {\n",
              "          const element = document.querySelector('#df-3aad66c8-689a-4fa1-8d2f-3408d0dc1a4c');\n",
              "          const dataTable =\n",
              "            await google.colab.kernel.invokeFunction('convertToInteractive',\n",
              "                                                     [key], {});\n",
              "          if (!dataTable) return;\n",
              "\n",
              "          const docLinkHtml = 'Like what you see? Visit the ' +\n",
              "            '<a target=\"_blank\" href=https://colab.research.google.com/notebooks/data_table.ipynb>data table notebook</a>'\n",
              "            + ' to learn more about interactive tables.';\n",
              "          element.innerHTML = '';\n",
              "          dataTable['output_type'] = 'display_data';\n",
              "          await google.colab.output.renderOutput(dataTable, element);\n",
              "          const docLink = document.createElement('div');\n",
              "          docLink.innerHTML = docLinkHtml;\n",
              "          element.appendChild(docLink);\n",
              "        }\n",
              "      </script>\n",
              "    </div>\n",
              "  </div>\n",
              "  "
            ],
            "text/plain": [
              "             Date       Day  CodedDay  Zone  Weather  Temperature  Traffic\n",
              "0       1-01-2017    Sunday         7     1       21           17        1\n",
              "1       1-01-2017    Sunday         7     2       12           34        2\n",
              "2       1-01-2017    Sunday         7     3       25           24        2\n",
              "3       1-01-2017    Sunday         7     4       46           41        4\n",
              "4       1-01-2017    Sunday         7     5       33           19        3\n",
              "...           ...       ...       ...   ...      ...          ...      ...\n",
              "52411  31-12-2017  Saturday         6   140       15           35        2\n",
              "52412  31-12-2017  Saturday         6   141       27           11        4\n",
              "52413  31-12-2017  Saturday         6   142       25           12        3\n",
              "52414  31-12-2017  Saturday         6   143       24           28        1\n",
              "52415  31-12-2017  Saturday         6   144       14           24        1\n",
              "\n",
              "[52416 rows x 7 columns]"
            ]
          },
          "metadata": {},
          "execution_count": 3
        }
      ]
    },
    {
      "cell_type": "code",
      "source": [
        "data.info()"
      ],
      "metadata": {
        "colab": {
          "base_uri": "https://localhost:8080/"
        },
        "id": "YdQSUU8v-EAm",
        "outputId": "b3650b18-fc72-4694-9d1c-dbb3aee7bc8e"
      },
      "execution_count": null,
      "outputs": [
        {
          "output_type": "stream",
          "name": "stdout",
          "text": [
            "<class 'pandas.core.frame.DataFrame'>\n",
            "RangeIndex: 52416 entries, 0 to 52415\n",
            "Data columns (total 7 columns):\n",
            " #   Column       Non-Null Count  Dtype \n",
            "---  ------       --------------  ----- \n",
            " 0   Date         52416 non-null  object\n",
            " 1   Day          52416 non-null  object\n",
            " 2   CodedDay     52416 non-null  int64 \n",
            " 3   Zone         52416 non-null  int64 \n",
            " 4   Weather      52416 non-null  int64 \n",
            " 5   Temperature  52416 non-null  int64 \n",
            " 6   Traffic      52416 non-null  int64 \n",
            "dtypes: int64(5), object(2)\n",
            "memory usage: 2.8+ MB\n"
          ]
        }
      ]
    },
    {
      "cell_type": "code",
      "source": [
        "#preprocessing\n",
        "from sklearn.preprocessing import LabelEncoder"
      ],
      "metadata": {
        "id": "BnqKHIQ2-MJG"
      },
      "execution_count": null,
      "outputs": []
    },
    {
      "cell_type": "code",
      "source": [
        "le=LabelEncoder()"
      ],
      "metadata": {
        "id": "oQwij7yV-UKi"
      },
      "execution_count": null,
      "outputs": []
    },
    {
      "cell_type": "code",
      "source": [
        "data['Date']=le.fit_transform(data['Date'])"
      ],
      "metadata": {
        "id": "OskRYh3x-YyA"
      },
      "execution_count": null,
      "outputs": []
    },
    {
      "cell_type": "code",
      "source": [
        "data.info()"
      ],
      "metadata": {
        "colab": {
          "base_uri": "https://localhost:8080/"
        },
        "id": "8GwikbY2-oq8",
        "outputId": "f297d8a4-ced9-41be-989c-b66d728addc3"
      },
      "execution_count": null,
      "outputs": [
        {
          "output_type": "stream",
          "name": "stdout",
          "text": [
            "<class 'pandas.core.frame.DataFrame'>\n",
            "RangeIndex: 52416 entries, 0 to 52415\n",
            "Data columns (total 7 columns):\n",
            " #   Column       Non-Null Count  Dtype \n",
            "---  ------       --------------  ----- \n",
            " 0   Date         52416 non-null  int64 \n",
            " 1   Day          52416 non-null  object\n",
            " 2   CodedDay     52416 non-null  int64 \n",
            " 3   Zone         52416 non-null  int64 \n",
            " 4   Weather      52416 non-null  int64 \n",
            " 5   Temperature  52416 non-null  int64 \n",
            " 6   Traffic      52416 non-null  int64 \n",
            "dtypes: int64(6), object(1)\n",
            "memory usage: 2.8+ MB\n"
          ]
        }
      ]
    },
    {
      "cell_type": "code",
      "source": [
        "x=data.iloc[:,2:6].values\n",
        "y=data.iloc[:,6:7].values"
      ],
      "metadata": {
        "id": "2Y2lSyxa-uQc"
      },
      "execution_count": null,
      "outputs": []
    },
    {
      "cell_type": "code",
      "source": [
        "x"
      ],
      "metadata": {
        "colab": {
          "base_uri": "https://localhost:8080/"
        },
        "id": "NZxc4q5S_Lg-",
        "outputId": "1ccfe08f-c8d1-49bb-e3a8-9272d8713316"
      },
      "execution_count": null,
      "outputs": [
        {
          "output_type": "execute_result",
          "data": {
            "text/plain": [
              "array([[  7,   1,  21,  17],\n",
              "       [  7,   2,  12,  34],\n",
              "       [  7,   3,  25,  24],\n",
              "       ...,\n",
              "       [  6, 142,  25,  12],\n",
              "       [  6, 143,  24,  28],\n",
              "       [  6, 144,  14,  24]])"
            ]
          },
          "metadata": {},
          "execution_count": 10
        }
      ]
    },
    {
      "cell_type": "code",
      "source": [
        "x.shape"
      ],
      "metadata": {
        "colab": {
          "base_uri": "https://localhost:8080/"
        },
        "id": "iJQCni66_NCt",
        "outputId": "db5c51b4-73eb-4ade-b073-7a996fb6cd8e"
      },
      "execution_count": null,
      "outputs": [
        {
          "output_type": "execute_result",
          "data": {
            "text/plain": [
              "(52416, 4)"
            ]
          },
          "metadata": {},
          "execution_count": 11
        }
      ]
    },
    {
      "cell_type": "code",
      "source": [
        "y\n"
      ],
      "metadata": {
        "colab": {
          "base_uri": "https://localhost:8080/"
        },
        "id": "cwD78M2t_PWN",
        "outputId": "e1f31296-c98a-42fb-96e5-dc7419082dda"
      },
      "execution_count": null,
      "outputs": [
        {
          "output_type": "execute_result",
          "data": {
            "text/plain": [
              "array([[1],\n",
              "       [2],\n",
              "       [2],\n",
              "       ...,\n",
              "       [3],\n",
              "       [1],\n",
              "       [1]])"
            ]
          },
          "metadata": {},
          "execution_count": 12
        }
      ]
    },
    {
      "cell_type": "code",
      "source": [
        "y.shape"
      ],
      "metadata": {
        "colab": {
          "base_uri": "https://localhost:8080/"
        },
        "id": "Dk3AGETE_Qof",
        "outputId": "281e9265-f261-4b45-fe54-8e211f98d398"
      },
      "execution_count": null,
      "outputs": [
        {
          "output_type": "execute_result",
          "data": {
            "text/plain": [
              "(52416, 1)"
            ]
          },
          "metadata": {},
          "execution_count": 13
        }
      ]
    },
    {
      "cell_type": "code",
      "source": [
        "from sklearn.model_selection import train_test_split"
      ],
      "metadata": {
        "id": "tjfHeviK_Uac"
      },
      "execution_count": null,
      "outputs": []
    },
    {
      "cell_type": "code",
      "source": [
        "x_train,x_test,y_train,y_test=train_test_split(x,y,test_size=0.20,random_state=0)"
      ],
      "metadata": {
        "id": "Tf-hfSJ9_rzg"
      },
      "execution_count": null,
      "outputs": []
    },
    {
      "cell_type": "code",
      "source": [
        "x_train.shape,y_train.shape,x_test.shape,y_test.shape"
      ],
      "metadata": {
        "colab": {
          "base_uri": "https://localhost:8080/"
        },
        "id": "ZzgarUkb_7jB",
        "outputId": "9b667fdf-5c3f-4e82-ad18-3f63b56fbdcd"
      },
      "execution_count": null,
      "outputs": [
        {
          "output_type": "execute_result",
          "data": {
            "text/plain": [
              "((41932, 4), (41932, 1), (10484, 4), (10484, 1))"
            ]
          },
          "metadata": {},
          "execution_count": 16
        }
      ]
    },
    {
      "cell_type": "code",
      "source": [
        "#feature scaling normalising\n",
        "from sklearn.preprocessing import StandardScaler"
      ],
      "metadata": {
        "id": "8AVWo9TdAHtT"
      },
      "execution_count": null,
      "outputs": []
    },
    {
      "cell_type": "code",
      "source": [
        "sc=StandardScaler()"
      ],
      "metadata": {
        "id": "TP4BzuznAfs7"
      },
      "execution_count": null,
      "outputs": []
    },
    {
      "cell_type": "code",
      "source": [
        "x_train=sc.fit_transform(x_train)\n",
        "x_test=sc.fit_transform(x_test)"
      ],
      "metadata": {
        "id": "V4ZDCYJXAlFS"
      },
      "execution_count": null,
      "outputs": []
    },
    {
      "cell_type": "code",
      "source": [
        "x_train"
      ],
      "metadata": {
        "colab": {
          "base_uri": "https://localhost:8080/"
        },
        "id": "j7WolHLaAwTz",
        "outputId": "2c51a7de-052b-4e77-e5e8-c91edba1cc62"
      },
      "execution_count": null,
      "outputs": [
        {
          "output_type": "execute_result",
          "data": {
            "text/plain": [
              "array([[ 1.50038620e+00, -1.19374599e+00, -2.50917039e-01,\n",
              "         8.15385293e-01],\n",
              "       [ 1.50038620e+00,  1.06932573e-01,  1.34192615e+00,\n",
              "         1.59319386e+00],\n",
              "       [ 5.00454635e-01, -1.36235247e+00, -3.23319002e-01,\n",
              "        -1.17234771e+00],\n",
              "       ...,\n",
              "       [-1.49940849e+00,  1.47987105e+00, -9.74936669e-01,\n",
              "         1.16107799e+00],\n",
              "       [-1.49940849e+00,  1.79192493e-01, -1.78515076e-01,\n",
              "         1.23999901e-01],\n",
              "       [ 4.88853311e-04,  1.64847753e+00,  1.26952418e+00,\n",
              "        -1.34519406e+00]])"
            ]
          },
          "metadata": {},
          "execution_count": 20
        }
      ]
    },
    {
      "cell_type": "code",
      "source": [
        "#random forest\n",
        "from sklearn.ensemble import RandomForestRegressor\n",
        "regressor = RandomForestRegressor(n_estimators=300,random_state=0)"
      ],
      "metadata": {
        "id": "axRDQ82xAz8d"
      },
      "execution_count": null,
      "outputs": []
    },
    {
      "cell_type": "code",
      "source": [
        "regressor.fit(x_train,y_train)"
      ],
      "metadata": {
        "colab": {
          "base_uri": "https://localhost:8080/"
        },
        "id": "EC9bpF7CBcUw",
        "outputId": "864a32f7-b901-4406-b374-a5b8b9dfc281"
      },
      "execution_count": null,
      "outputs": [
        {
          "output_type": "stream",
          "name": "stderr",
          "text": [
            "/usr/local/lib/python3.7/dist-packages/ipykernel_launcher.py:1: DataConversionWarning: A column-vector y was passed when a 1d array was expected. Please change the shape of y to (n_samples,), for example using ravel().\n",
            "  \"\"\"Entry point for launching an IPython kernel.\n"
          ]
        },
        {
          "output_type": "execute_result",
          "data": {
            "text/plain": [
              "RandomForestRegressor(n_estimators=300, random_state=0)"
            ]
          },
          "metadata": {},
          "execution_count": 22
        }
      ]
    },
    {
      "cell_type": "code",
      "source": [
        "y_pred=regressor.predict(x_test)"
      ],
      "metadata": {
        "id": "Yp59DYlDBnkT"
      },
      "execution_count": null,
      "outputs": []
    },
    {
      "cell_type": "code",
      "source": [
        "if (y_pred.all()<2.5) :\n",
        "  y_pred = np.round(y_pred-0.5)\n",
        "else :\n",
        "  y_pred = np.round(y_pred+0.5)\n",
        "y_pred"
      ],
      "metadata": {
        "colab": {
          "base_uri": "https://localhost:8080/"
        },
        "id": "n9JITusiB_KV",
        "outputId": "a736a9f2-5591-4b4e-ff1a-2fd90f304efe"
      },
      "execution_count": null,
      "outputs": [
        {
          "output_type": "execute_result",
          "data": {
            "text/plain": [
              "array([2., 2., 2., ..., 2., 2., 3.])"
            ]
          },
          "metadata": {},
          "execution_count": 24
        }
      ]
    },
    {
      "cell_type": "code",
      "source": [
        "df=(y_pred-y_test)/y_test\n",
        "df=round(df.mean()*100,2)\n",
        "print(\"error=\",df,\"%\")"
      ],
      "metadata": {
        "colab": {
          "base_uri": "https://localhost:8080/"
        },
        "id": "IEIFIdZBCcly",
        "outputId": "f33386b0-a5b4-4ae8-f9e8-dc54cf813ac0"
      },
      "execution_count": null,
      "outputs": [
        {
          "output_type": "stream",
          "name": "stdout",
          "text": [
            "error= 13.41 %\n"
          ]
        }
      ]
    },
    {
      "cell_type": "code",
      "source": [
        "a=100-df\n",
        "print(\"accuracy=\",a,\"%\")"
      ],
      "metadata": {
        "colab": {
          "base_uri": "https://localhost:8080/"
        },
        "id": "euywgWh4C-Eo",
        "outputId": "e2d5ed66-9853-4c7f-8309-6ef15c816548"
      },
      "execution_count": null,
      "outputs": [
        {
          "output_type": "stream",
          "name": "stdout",
          "text": [
            "accuracy= 86.59 %\n"
          ]
        }
      ]
    },
    {
      "cell_type": "code",
      "source": [
        "from sklearn.metrics import confusion_matrix\n",
        "\n",
        "#Generate the confusion matrix\n",
        "cf_matrix = confusion_matrix(y_test, y_pred)\n",
        "\n",
        "print(cf_matrix)\n",
        "import seaborn as sns\n",
        "\n",
        "ax = sns.heatmap(cf_matrix/np.sum(cf_matrix), annot=True,\n",
        "            fmt='.2%', cmap='Blues')\n",
        "ax.set_title('Confusion Matrix\\n\\n');\n",
        "ax.set_xlabel('\\nPredicted Values')\n",
        "ax.set_ylabel('Actual Values ');\n",
        "plt.show()"
      ],
      "metadata": {
        "colab": {
          "base_uri": "https://localhost:8080/",
          "height": 424
        },
        "id": "CJOk1FRmsJdq",
        "outputId": "dcc693ab-5993-4966-870f-657b56c5f8a5"
      },
      "execution_count": null,
      "outputs": [
        {
          "output_type": "stream",
          "name": "stdout",
          "text": [
            "[[  38 1003  982   32    0]\n",
            " [  50 1025 1000   43    0]\n",
            " [  48 1083  972   43    0]\n",
            " [  43  982 1024   49    0]\n",
            " [  39  985  999   44    0]]\n"
          ]
        },
        {
          "output_type": "display_data",
          "data": {
            "text/plain": [
              "<Figure size 432x288 with 2 Axes>"
            ],
            "image/png": "[encoded data removed]"
          },
          "metadata": {
            "needs_background": "light"
          }
        }
      ]
    },
    {
      "cell_type": "code",
      "source": [
        "#Support vector machine\n",
        "from sklearn.svm import SVR\n",
        "regressor = SVR(kernel='rbf')\n",
        "regressor.fit(x_train,y_train)\n",
        "y_pred = regressor.predict(x_test)\n",
        "\n",
        "y_pred"
      ],
      "metadata": {
        "colab": {
          "base_uri": "https://localhost:8080/"
        },
        "id": "8z0RE3aeDG-f",
        "outputId": "390dbce2-3cb6-45d6-c736-b752784aaf8b"
      },
      "execution_count": null,
      "outputs": [
        {
          "output_type": "stream",
          "name": "stderr",
          "text": [
            "/usr/local/lib/python3.7/dist-packages/sklearn/utils/validation.py:993: DataConversionWarning: A column-vector y was passed when a 1d array was expected. Please change the shape of y to (n_samples, ), for example using ravel().\n",
            "  y = column_or_1d(y, warn=True)\n"
          ]
        },
        {
          "output_type": "execute_result",
          "data": {
            "text/plain": [
              "array([3.06398995, 2.97919108, 2.98471316, ..., 2.93682106, 2.95802622,\n",
              "       3.04488135])"
            ]
          },
          "metadata": {},
          "execution_count": 28
        }
      ]
    },
    {
      "cell_type": "code",
      "source": [
        "if (y_pred.all()<2.5) :\n",
        "  y_pred = np.round(y_pred-0.5)\n",
        "else :\n",
        "  y_pred = np.round(y_pred+0.5)\n",
        "y_pred.shape"
      ],
      "metadata": {
        "colab": {
          "base_uri": "https://localhost:8080/"
        },
        "id": "JaRbn0A_ER_W",
        "outputId": "323a9831-e890-4fac-a53c-a1333c53c56d"
      },
      "execution_count": null,
      "outputs": [
        {
          "output_type": "execute_result",
          "data": {
            "text/plain": [
              "(10484,)"
            ]
          },
          "metadata": {},
          "execution_count": 29
        }
      ]
    },
    {
      "cell_type": "code",
      "source": [
        "df=(y_pred-y_test)/y_test\n",
        "df=round(df.mean()*100,2)\n",
        "print(\"error=\",df,\"%\")"
      ],
      "metadata": {
        "colab": {
          "base_uri": "https://localhost:8080/"
        },
        "id": "UI-_SGGnEfyR",
        "outputId": "a7f3e124-49c7-471a-eeb5-854aae59ad9c"
      },
      "execution_count": null,
      "outputs": [
        {
          "output_type": "stream",
          "name": "stdout",
          "text": [
            "error= 10.58 %\n"
          ]
        }
      ]
    },
    {
      "cell_type": "code",
      "source": [
        "a=100-df\n",
        "print(\"accuracy=\",a,\"%\")"
      ],
      "metadata": {
        "colab": {
          "base_uri": "https://localhost:8080/"
        },
        "id": "rVJ1J6t8EjV5",
        "outputId": "7e7a66ac-5429-47a4-c524-d56f20d824c9"
      },
      "execution_count": null,
      "outputs": [
        {
          "output_type": "stream",
          "name": "stdout",
          "text": [
            "accuracy= 89.42 %\n"
          ]
        }
      ]
    },
    {
      "cell_type": "code",
      "source": [
        "from sklearn.metrics import confusion_matrix\n",
        "\n",
        "#Generate the confusion matrix\n",
        "cf_matrix = confusion_matrix(y_test, y_pred)\n",
        "\n",
        "print(cf_matrix)\n",
        "import seaborn as sns\n",
        "\n",
        "ax = sns.heatmap(cf_matrix/np.sum(cf_matrix), annot=True,\n",
        "            fmt='.2%', cmap='Blues')\n",
        "ax.set_title('Confusion Matrix\\n\\n');\n",
        "ax.set_xlabel('\\nPredicted Values')\n",
        "ax.set_ylabel('Actual Values ');\n",
        "plt.show()"
      ],
      "metadata": {
        "id": "nKZeMx6HAlH3",
        "outputId": "e4151300-5e84-4152-ec43-9eb032b65853",
        "colab": {
          "base_uri": "https://localhost:8080/",
          "height": 424
        }
      },
      "execution_count": null,
      "outputs": [
        {
          "output_type": "stream",
          "name": "stdout",
          "text": [
            "[[   0 1181  874    0    0]\n",
            " [   0 1218  900    0    0]\n",
            " [   0 1228  918    0    0]\n",
            " [   0 1197  901    0    0]\n",
            " [   0 1133  934    0    0]]\n"
          ]
        },
        {
          "output_type": "display_data",
          "data": {
            "text/plain": [
              "<Figure size 432x288 with 2 Axes>"
            ],
            "image/png": "[encoded data removed]"
          },
          "metadata": {
            "needs_background": "light"
          }
        }
      ]
    },
    {
      "cell_type": "code",
      "source": [
        "type(data)"
      ],
      "metadata": {
        "colab": {
          "base_uri": "https://localhost:8080/"
        },
        "id": "K_UBhivXHv8j",
        "outputId": "1763ea89-a2db-42f5-b473-c64ed5b23d4c"
      },
      "execution_count": null,
      "outputs": [
        {
          "output_type": "execute_result",
          "data": {
            "text/plain": [
              "pandas.core.frame.DataFrame"
            ]
          },
          "metadata": {},
          "execution_count": 33
        }
      ]
    },
    {
      "cell_type": "code",
      "source": [
        "column_names = [\"Date\",\"Day\",\"CodedDay\",\"Zone\",\"Weather\",\"Temperature\",\"Traffic\"]\n",
        "sundf = pd.DataFrame(columns=column_names)\n",
        "mondf = pd.DataFrame(columns=column_names)\n",
        "tuedf = pd.DataFrame(columns=column_names)\n",
        "weddf = pd.DataFrame(columns=column_names)\n",
        "thudf = pd.DataFrame(columns=column_names)\n",
        "fridf = pd.DataFrame(columns=column_names)\n",
        "satdf = pd.DataFrame(columns=column_names)\n",
        "sunday=[]\n",
        "monday=[]\n",
        "tuesday=[]\n",
        "wednesday=[]\n",
        "thursday=[]\n",
        "friday=[]\n",
        "saturday=[]\n",
        "for i in data.index :\n",
        "  Date = data['Date'][i]\n",
        "  Day = data['Day'][i]\n",
        "  CodedDay = data['CodedDay'][i]\n",
        "  Zone = data['Zone'][i]\n",
        "  Weather = data['Weather'][i]\n",
        "  Temperature = data['Temperature'][i]\n",
        "  Traffic = data['Traffic'][i]\n",
        "  dict_ = {\"Date\" : Date, \"Day\" : Day, \"CodedDay\" : CodedDay, \"Zone\" : Zone, \"Weather\" : Weather, \"Temperature\" : Temperature, \"Traffic\" : Traffic}\n",
        "  if data['Day'][i] == 'Sunday' :\n",
        "    sundf=sundf.append(dict_,ignore_index = True)\n",
        "    sunday.append(Traffic)\n",
        "  if data['Day'][i] == 'Monday' :\n",
        "    mondf=mondf.append(dict_,ignore_index = True)\n",
        "    monday.append(Traffic)\n",
        "  if data['Day'][i] == 'Tuesday' :\n",
        "    tuedf=tuedf.append(dict_,ignore_index = True)\n",
        "    tuesday.append(Traffic)\n",
        "  if data['Day'][i] == 'Wednesday' :\n",
        "    weddf=weddf.append(dict_,ignore_index = True)\n",
        "    wednesday.append(Traffic)\n",
        "  if data['Day'][i] == 'Thursday' :\n",
        "    thudf=thudf.append(dict_,ignore_index = True)\n",
        "    thursday.append(Traffic)\n",
        "  if data['Day'][i] == 'Friday' :\n",
        "    fridf=fridf.append(dict_,ignore_index = True)\n",
        "    friday.append(Traffic)\n",
        "  if data['Day'][i] == 'Saturday' :\n",
        "    satdf=satdf.append(dict_,ignore_index = True)\n",
        "    saturday.append(Traffic)\n",
        "\n",
        "\n",
        "\n",
        "\n"
      ],
      "metadata": {
        "id": "3yoNR3g-M8U1"
      },
      "execution_count": null,
      "outputs": []
    },
    {
      "cell_type": "code",
      "source": [
        "sundf,mondf,tuedf,weddf,thudf,fridf,satdf"
      ],
      "metadata": {
        "colab": {
          "base_uri": "https://localhost:8080/"
        },
        "id": "eSQcAjrfT5JV",
        "outputId": "023a0500-f0f3-4dfb-a90a-99b7dd543184"
      },
      "execution_count": null,
      "outputs": [
        {
          "output_type": "execute_result",
          "data": {
            "text/plain": [
              "(     Date     Day CodedDay Zone Weather Temperature Traffic\n",
              " 0       0  Sunday        7    1      21          17       1\n",
              " 1       0  Sunday        7    2      12          34       2\n",
              " 2       0  Sunday        7    3      25          24       2\n",
              " 3       0  Sunday        7    4      46          41       4\n",
              " 4       0  Sunday        7    5      33          19       3\n",
              " ...   ...     ...      ...  ...     ...         ...     ...\n",
              " 7483  215  Sunday        7  140      42           9       3\n",
              " 7484  215  Sunday        7  141      26          25       3\n",
              " 7485  215  Sunday        7  142      24          22       5\n",
              " 7486  215  Sunday        7  143       8          23       3\n",
              " 7487  215  Sunday        7  144      18          10       1\n",
              " \n",
              " [7488 rows x 7 columns],\n",
              "      Date     Day CodedDay Zone Weather Temperature Traffic\n",
              " 0     132  Monday        1    1       6          39       2\n",
              " 1     132  Monday        1    2      13          39       5\n",
              " 2     132  Monday        1    3      17          12       5\n",
              " 3     132  Monday        1    4      14          38       4\n",
              " 4     132  Monday        1    5      33          16       4\n",
              " ...   ...     ...      ...  ...     ...         ...     ...\n",
              " 7483  227  Monday        1  140       9           8       1\n",
              " 7484  227  Monday        1  141      34          41       5\n",
              " 7485  227  Monday        1  142      24          37       3\n",
              " 7486  227  Monday        1  143       6          23       5\n",
              " 7487  227  Monday        1  144       3          30       1\n",
              " \n",
              " [7488 rows x 7 columns],\n",
              "      Date      Day CodedDay Zone Weather Temperature Traffic\n",
              " 0     263  Tuesday        2    1      26          31       1\n",
              " 1     263  Tuesday        2    2       9          15       4\n",
              " 2     263  Tuesday        2    3       0          21       1\n",
              " 3     263  Tuesday        2    4      23          24       4\n",
              " 4     263  Tuesday        2    5      24          42       3\n",
              " ...   ...      ...      ...  ...     ...         ...     ...\n",
              " 7483  239  Tuesday        2  140      41          13       4\n",
              " 7484  239  Tuesday        2  141       8          26       5\n",
              " 7485  239  Tuesday        2  142      21          13       4\n",
              " 7486  239  Tuesday        2  143      38          17       5\n",
              " 7487  239  Tuesday        2  144      43          20       4\n",
              " \n",
              " [7488 rows x 7 columns],\n",
              "      Date        Day CodedDay Zone Weather Temperature Traffic\n",
              " 0     292  Wednesday        3    1       7          43       5\n",
              " 1     292  Wednesday        3    2      35          13       3\n",
              " 2     292  Wednesday        3    3      45          43       4\n",
              " 3     292  Wednesday        3    4      26          41       4\n",
              " 4     292  Wednesday        3    5      30          22       3\n",
              " ...   ...        ...      ...  ...     ...         ...     ...\n",
              " 7483  251  Wednesday        3  140      10          28       3\n",
              " 7484  251  Wednesday        3  141      10          26       1\n",
              " 7485  251  Wednesday        3  142       1          44       3\n",
              " 7486  251  Wednesday        3  143      15          10       5\n",
              " 7487  251  Wednesday        3  144      15          10       2\n",
              " \n",
              " [7488 rows x 7 columns],\n",
              "      Date       Day CodedDay Zone Weather Temperature Traffic\n",
              " 0     304  Thursday        4    1      43          10       2\n",
              " 1     304  Thursday        4    2      37          14       2\n",
              " 2     304  Thursday        4    3      47          10       3\n",
              " 3     304  Thursday        4    4      24          25       2\n",
              " 4     304  Thursday        4    5       4          38       3\n",
              " ...   ...       ...      ...  ...     ...         ...     ...\n",
              " 7483  262  Thursday        4  140      25          44       3\n",
              " 7484  262  Thursday        4  141       1          20       2\n",
              " 7485  262  Thursday        4  142      40          15       5\n",
              " 7486  262  Thursday        4  143      23          13       1\n",
              " 7487  262  Thursday        4  144      10          28       4\n",
              " \n",
              " [7488 rows x 7 columns],\n",
              "      Date     Day CodedDay Zone Weather Temperature Traffic\n",
              " 0     316  Friday        5    1      42           9       4\n",
              " 1     316  Friday        5    2      24          42       3\n",
              " 2     316  Friday        5    3      21          17       3\n",
              " 3     316  Friday        5    4      18          21       3\n",
              " 4     316  Friday        5    5      24          31       2\n",
              " ...   ...     ...      ...  ...     ...         ...     ...\n",
              " 7483  285  Friday        5  140      20           6       3\n",
              " 7484  285  Friday        5  141      29          16       2\n",
              " 7485  285  Friday        5  142      42          39       3\n",
              " 7486  285  Friday        5  143      46          20       4\n",
              " 7487  285  Friday        5  144      35          22       2\n",
              " \n",
              " [7488 rows x 7 columns],\n",
              "      Date       Day CodedDay Zone Weather Temperature Traffic\n",
              " 0     328  Saturday        6    1      45          15       4\n",
              " 1     328  Saturday        6    2      41          30       3\n",
              " 2     328  Saturday        6    3      42          11       3\n",
              " 3     328  Saturday        6    4      26          19       5\n",
              " 4     328  Saturday        6    5      46           7       2\n",
              " ...   ...       ...      ...  ...     ...         ...     ...\n",
              " 7483  291  Saturday        6  140      15          35       2\n",
              " 7484  291  Saturday        6  141      27          11       4\n",
              " 7485  291  Saturday        6  142      25          12       3\n",
              " 7486  291  Saturday        6  143      24          28       1\n",
              " 7487  291  Saturday        6  144      14          24       1\n",
              " \n",
              " [7488 rows x 7 columns])"
            ]
          },
          "metadata": {},
          "execution_count": 35
        }
      ]
    },
    {
      "cell_type": "code",
      "source": [
        "s1=s2=s3=s4=s5=0\n",
        "for i in sundf.index :\n",
        "  x = sundf['Traffic'][i]\n",
        "  if x==1 :\n",
        "    s1 = s1+1\n",
        "  elif x==2:\n",
        "    s2 = s2+1\n",
        "  elif x==3 :\n",
        "    s3 = s3+1\n",
        "  elif x==4:\n",
        "    s4 = s4+1\n",
        "  elif x==5:\n",
        "    s5 = s5+1\n",
        "print(s1,s2,s3,s4,s5)"
      ],
      "metadata": {
        "colab": {
          "base_uri": "https://localhost:8080/"
        },
        "id": "iGke4zh7UXHr",
        "outputId": "dfc0c33f-ac67-487b-d718-1a9f6d7d0fce"
      },
      "execution_count": null,
      "outputs": [
        {
          "output_type": "stream",
          "name": "stdout",
          "text": [
            "1484 1585 1506 1429 1484\n"
          ]
        }
      ]
    },
    {
      "cell_type": "code",
      "source": [
        "m1=m2=m3=m4=m5=0\n",
        "for i in mondf.index :\n",
        "  x = mondf['Traffic'][i]\n",
        "  if x==1 :\n",
        "    m1 = m1+1\n",
        "  elif x==2:\n",
        "    m2 = m2+1\n",
        "  elif x==3 :\n",
        "    m3 = m3+1\n",
        "  elif x==4:\n",
        "    m4 = m4+1\n",
        "  elif x==5:\n",
        "    m5 = m5+1\n",
        "print(m1,m2,m3,m4,m5)"
      ],
      "metadata": {
        "colab": {
          "base_uri": "https://localhost:8080/"
        },
        "id": "Ges1YNqNeESt",
        "outputId": "b81cf9be-9f0e-4048-ad21-49a2eb528f04"
      },
      "execution_count": null,
      "outputs": [
        {
          "output_type": "stream",
          "name": "stdout",
          "text": [
            "1418 1580 1488 1534 1468\n"
          ]
        }
      ]
    },
    {
      "cell_type": "code",
      "source": [
        "t1=t2=t3=t4=t5=0\n",
        "for i in tuedf.index :\n",
        "  x = tuedf['Traffic'][i]\n",
        "  if x==1 :\n",
        "    t1 = t1+1\n",
        "  elif x==2:\n",
        "    t2 = t2+1\n",
        "  elif x==3 :\n",
        "    t3 = t3+1\n",
        "  elif x==4:\n",
        "    t4 = t4+1\n",
        "  elif x==5:\n",
        "    t5 = t5+1\n",
        "print(t1,t2,t3,t4,t5)"
      ],
      "metadata": {
        "colab": {
          "base_uri": "https://localhost:8080/"
        },
        "id": "T81y9CwMetNh",
        "outputId": "553bb924-709c-4d30-ff97-08bd08c21bac"
      },
      "execution_count": null,
      "outputs": [
        {
          "output_type": "stream",
          "name": "stdout",
          "text": [
            "1527 1497 1423 1469 1572\n"
          ]
        }
      ]
    },
    {
      "cell_type": "code",
      "source": [
        "w1=w2=w3=w4=w5=0\n",
        "for i in weddf.index :\n",
        "  x = weddf['Traffic'][i]\n",
        "  if x==1 :\n",
        "    w1 = w1+1\n",
        "  elif x==2:\n",
        "    w2 = w2+1\n",
        "  elif x==3 :\n",
        "    w3 = w3+1\n",
        "  elif x==4:\n",
        "    w4 = w4+1\n",
        "  elif x==5:\n",
        "    w5 = w5+1\n",
        "print(w1,w2,w3,w4,w5)"
      ],
      "metadata": {
        "colab": {
          "base_uri": "https://localhost:8080/"
        },
        "id": "ZYNIHlkCfBPg",
        "outputId": "daf9acf3-6bee-438e-95f7-7e566d57f78c"
      },
      "execution_count": null,
      "outputs": [
        {
          "output_type": "stream",
          "name": "stdout",
          "text": [
            "1500 1546 1494 1488 1460\n"
          ]
        }
      ]
    },
    {
      "cell_type": "code",
      "source": [
        "th1=th2=th3=th4=th5=0\n",
        "for i in thudf.index :\n",
        "  x = thudf['Traffic'][i]\n",
        "  if x==1 :\n",
        "    th1 = th1+1\n",
        "  elif x==2:\n",
        "    th2 = th2+1\n",
        "  elif x==3 :\n",
        "    th3 = th3+1\n",
        "  elif x==4:\n",
        "    th4 = th4+1\n",
        "  elif x==5:\n",
        "    th5 = th5+1\n",
        "print(th1,th2,th3,th4,th5)"
      ],
      "metadata": {
        "colab": {
          "base_uri": "https://localhost:8080/"
        },
        "id": "pOZf1j88fUYF",
        "outputId": "828a9dac-35ab-4cff-ace7-8bdc3d77bfe7"
      },
      "execution_count": null,
      "outputs": [
        {
          "output_type": "stream",
          "name": "stdout",
          "text": [
            "1414 1526 1517 1486 1545\n"
          ]
        }
      ]
    },
    {
      "cell_type": "code",
      "source": [
        "f1=f2=f3=f4=f5=0\n",
        "for i in fridf.index :\n",
        "  x = fridf['Traffic'][i]\n",
        "  if x==1 :\n",
        "    f1 = f1+1\n",
        "  elif x==2:\n",
        "    f2 = f2+1\n",
        "  elif x==3 :\n",
        "    f3 = f3+1\n",
        "  elif x==4:\n",
        "    f4 = f4+1\n",
        "  elif x==5:\n",
        "    f5 = f5+1\n",
        "print(f1,f2,f3,f4,f5)"
      ],
      "metadata": {
        "colab": {
          "base_uri": "https://localhost:8080/"
        },
        "id": "JWgliIZKfevm",
        "outputId": "c5a61a3b-be2a-4e26-c1f3-4dab1ab30bcc"
      },
      "execution_count": null,
      "outputs": [
        {
          "output_type": "stream",
          "name": "stdout",
          "text": [
            "1482 1501 1468 1536 1501\n"
          ]
        }
      ]
    },
    {
      "cell_type": "code",
      "source": [
        "sa1=sa2=sa3=sa4=sa5=0\n",
        "for i in satdf.index :\n",
        "  x = satdf['Traffic'][i]\n",
        "  if x==1 :\n",
        "    sa1 = sa1+1\n",
        "  elif x==2:\n",
        "    sa2 = sa2+1\n",
        "  elif x==3 :\n",
        "    sa3 = sa3+1\n",
        "  elif x==4:\n",
        "    sa4 = sa4+1\n",
        "  elif x==5:\n",
        "    sa5 = sa5+1\n",
        "print(sa1,sa2,sa3,sa4,sa5)"
      ],
      "metadata": {
        "colab": {
          "base_uri": "https://localhost:8080/"
        },
        "id": "9ozt3t0ufsyp",
        "outputId": "6512917f-25f4-4c4e-f654-780493ac8451"
      },
      "execution_count": null,
      "outputs": [
        {
          "output_type": "stream",
          "name": "stdout",
          "text": [
            "1548 1579 1471 1458 1432\n"
          ]
        }
      ]
    },
    {
      "cell_type": "code",
      "source": [
        "max(s1,m1,t1,w1,th1,f1,sa1)\n",
        "#saturday\n"
      ],
      "metadata": {
        "colab": {
          "base_uri": "https://localhost:8080/"
        },
        "id": "HrAu6B6OgLw8",
        "outputId": "4d69a9ce-7a48-4a76-ecdd-9b0a8d5461f6"
      },
      "execution_count": null,
      "outputs": [
        {
          "output_type": "execute_result",
          "data": {
            "text/plain": [
              "1548"
            ]
          },
          "metadata": {},
          "execution_count": 43
        }
      ]
    },
    {
      "cell_type": "code",
      "source": [
        "max(s2,m2,t2,w2,th2,f2,sa2)\n",
        "#sunday"
      ],
      "metadata": {
        "colab": {
          "base_uri": "https://localhost:8080/"
        },
        "id": "iMnFkx-Kg9Lz",
        "outputId": "76b14326-379f-429f-f5e7-93618c9e9897"
      },
      "execution_count": null,
      "outputs": [
        {
          "output_type": "execute_result",
          "data": {
            "text/plain": [
              "1585"
            ]
          },
          "metadata": {},
          "execution_count": 44
        }
      ]
    },
    {
      "cell_type": "code",
      "source": [
        "max(s3,m3,t3,w3,th3,f3,sa3)\n",
        "#thursday"
      ],
      "metadata": {
        "colab": {
          "base_uri": "https://localhost:8080/"
        },
        "id": "mG33BHWjhEGa",
        "outputId": "2e973aa8-0af5-4c86-8af0-013f77593634"
      },
      "execution_count": null,
      "outputs": [
        {
          "output_type": "execute_result",
          "data": {
            "text/plain": [
              "1517"
            ]
          },
          "metadata": {},
          "execution_count": 45
        }
      ]
    },
    {
      "cell_type": "code",
      "source": [
        "max(s4,m4,t4,w4,th4,f4,sa4)\n",
        "#friday"
      ],
      "metadata": {
        "colab": {
          "base_uri": "https://localhost:8080/"
        },
        "id": "GZPEof5Wn2Gt",
        "outputId": "8fcf4986-60f0-4419-f883-98a57db44478"
      },
      "execution_count": null,
      "outputs": [
        {
          "output_type": "execute_result",
          "data": {
            "text/plain": [
              "1536"
            ]
          },
          "metadata": {},
          "execution_count": 46
        }
      ]
    },
    {
      "cell_type": "code",
      "source": [
        "max(s5,m5,t5,w5,th5,f5,sa5)\n",
        "#tuesday"
      ],
      "metadata": {
        "colab": {
          "base_uri": "https://localhost:8080/"
        },
        "id": "FmeDhnzNoJkp",
        "outputId": "5dd6835d-3ed5-40ce-c9b7-fe5df73df56e"
      },
      "execution_count": null,
      "outputs": [
        {
          "output_type": "execute_result",
          "data": {
            "text/plain": [
              "1572"
            ]
          },
          "metadata": {},
          "execution_count": 47
        }
      ]
    },
    {
      "cell_type": "code",
      "source": [
        "import matplotlib.pyplot as plt\n",
        "l1=[s1,m1,t1,w1,th1,f1,sa1]\n",
        "l2=[s2,m2,t2,w2,th2,f2,sa2]\n",
        "l3=[s3,m3,t3,w3,th3,f3,sa3]\n",
        "l4=[s4,m4,t4,w4,th4,f4,sa4]\n",
        "l5=[s5,m5,t5,w5,th5,f5,sa5]\n",
        "x = plt.plot(l1,'blue')\n",
        "plt.show()\n",
        "codedday=[1,2,3,4,5,6,7]"
      ],
      "metadata": {
        "colab": {
          "base_uri": "https://localhost:8080/",
          "height": 265
        },
        "id": "zqqFXGw0oWRh",
        "outputId": "4fb9c3a1-26d6-4a3d-ea56-289f5b455f41"
      },
      "execution_count": null,
      "outputs": [
        {
          "output_type": "display_data",
          "data": {
            "text/plain": [
              "<Figure size 432x288 with 1 Axes>"
            ],
            "image/png": "[encoded data removed]"
          },
          "metadata": {
            "needs_background": "light"
          }
        }
      ]
    },
    {
      "cell_type": "code",
      "source": [
        "#graph for traffic level - 1\n",
        "plt.bar(codedday,l1)\n",
        "plt.xlabel('Coded Day')\n",
        "plt.ylabel('Frequency')\n",
        "plt.show()"
      ],
      "metadata": {
        "colab": {
          "base_uri": "https://localhost:8080/",
          "height": 280
        },
        "id": "Gam7odEdx1FD",
        "outputId": "9619edb9-17bc-458e-a06f-59b3974d0784"
      },
      "execution_count": null,
      "outputs": [
        {
          "output_type": "display_data",
          "data": {
            "text/plain": [
              "<Figure size 432x288 with 1 Axes>"
            ],
            "image/png": "[encoded data removed]"
          },
          "metadata": {
            "needs_background": "light"
          }
        }
      ]
    },
    {
      "cell_type": "code",
      "source": [
        "plt.bar(codedday,l2)\n",
        "plt.xlabel('Coded Day')\n",
        "plt.ylabel('Frequency')\n",
        "plt.show()"
      ],
      "metadata": {
        "colab": {
          "base_uri": "https://localhost:8080/",
          "height": 279
        },
        "id": "707rKkTlyGWj",
        "outputId": "112adc33-0b1a-4f53-ccf2-24933dda30db"
      },
      "execution_count": null,
      "outputs": [
        {
          "output_type": "display_data",
          "data": {
            "text/plain": [
              "<Figure size 432x288 with 1 Axes>"
            ],
            "image/png": "[encoded data removed]"
          },
          "metadata": {
            "needs_background": "light"
          }
        }
      ]
    },
    {
      "cell_type": "code",
      "source": [
        "plt.bar(codedday,l3)\n",
        "plt.xlabel('Coded Day')\n",
        "plt.ylabel('Frequency')\n",
        "plt.show()"
      ],
      "metadata": {
        "colab": {
          "base_uri": "https://localhost:8080/",
          "height": 279
        },
        "id": "kUuKAqJmyoBm",
        "outputId": "be71f3b5-e184-4d52-add7-a315aaa26b12"
      },
      "execution_count": null,
      "outputs": [
        {
          "output_type": "display_data",
          "data": {
            "text/plain": [
              "<Figure size 432x288 with 1 Axes>"
            ],
            "image/png": "[encoded data removed]"
          },
          "metadata": {
            "needs_background": "light"
          }
        }
      ]
    },
    {
      "cell_type": "code",
      "source": [
        "plt.bar(codedday,l4)\n",
        "plt.xlabel('Coded Day')\n",
        "plt.ylabel('Frequency')\n",
        "plt.show()"
      ],
      "metadata": {
        "colab": {
          "base_uri": "https://localhost:8080/",
          "height": 282
        },
        "id": "ff-Evxdeys0Z",
        "outputId": "81500c67-c163-436b-d35b-b3cc40c4eeec"
      },
      "execution_count": null,
      "outputs": [
        {
          "output_type": "display_data",
          "data": {
            "text/plain": [
              "<Figure size 432x288 with 1 Axes>"
            ],
            "image/png": "[encoded data removed]"
          },
          "metadata": {
            "needs_background": "light"
          }
        }
      ]
    },
    {
      "cell_type": "code",
      "source": [
        "plt.bar(codedday,l5)\n",
        "plt.xlabel('Coded Day')\n",
        "plt.ylabel('Frequency')\n",
        "plt.show()"
      ],
      "metadata": {
        "colab": {
          "base_uri": "https://localhost:8080/",
          "height": 279
        },
        "id": "1pAsncXCyyIa",
        "outputId": "8dd1d1a4-a779-4247-b94c-c4e7a8e35b79"
      },
      "execution_count": null,
      "outputs": [
        {
          "output_type": "display_data",
          "data": {
            "text/plain": [
              "<Figure size 432x288 with 1 Axes>"
            ],
            "image/png": "[encoded data removed]"
          },
          "metadata": {
            "needs_background": "light"
          }
        }
      ]
    },
    {
      "cell_type": "code",
      "source": [
        "y = plt.plot(l2,'red')\n",
        "plt.show()"
      ],
      "metadata": {
        "colab": {
          "base_uri": "https://localhost:8080/",
          "height": 265
        },
        "id": "ARC2qzY5phte",
        "outputId": "8407a6f6-53d6-45a2-8754-f4693b86c74b"
      },
      "execution_count": null,
      "outputs": [
        {
          "output_type": "display_data",
          "data": {
            "text/plain": [
              "<Figure size 432x288 with 1 Axes>"
            ],
            "image/png": "[encoded data removed]"
          },
          "metadata": {
            "needs_background": "light"
          }
        }
      ]
    },
    {
      "cell_type": "code",
      "source": [
        "z = plt.plot(l3,'green')\n",
        "plt.show()"
      ],
      "metadata": {
        "colab": {
          "base_uri": "https://localhost:8080/",
          "height": 266
        },
        "id": "qQ_1lbpdpm3U",
        "outputId": "f1cfc2ac-6f14-49c4-929a-cb4bd297ff95"
      },
      "execution_count": null,
      "outputs": [
        {
          "output_type": "display_data",
          "data": {
            "text/plain": [
              "<Figure size 432x288 with 1 Axes>"
            ],
            "image/png": "[encoded data removed]"
          },
          "metadata": {
            "needs_background": "light"
          }
        }
      ]
    },
    {
      "cell_type": "code",
      "source": [
        "a = plt.plot(l4,'black')\n",
        "plt.show()"
      ],
      "metadata": {
        "colab": {
          "base_uri": "https://localhost:8080/",
          "height": 267
        },
        "id": "53HulJgypx2h",
        "outputId": "cd7662ca-dcdc-414e-bdfe-1c0581fdb402"
      },
      "execution_count": null,
      "outputs": [
        {
          "output_type": "display_data",
          "data": {
            "text/plain": [
              "<Figure size 432x288 with 1 Axes>"
            ],
            "image/png": "[encoded data removed]"
          },
          "metadata": {
            "needs_background": "light"
          }
        }
      ]
    },
    {
      "cell_type": "code",
      "source": [
        "b = plt.plot(l5,'brown')\n",
        "plt.show()"
      ],
      "metadata": {
        "colab": {
          "base_uri": "https://localhost:8080/",
          "height": 265
        },
        "id": "ydcZfPi5p1MW",
        "outputId": "fd405897-9895-497f-e9f6-95084469ae25"
      },
      "execution_count": null,
      "outputs": [
        {
          "output_type": "display_data",
          "data": {
            "text/plain": [
              "<Figure size 432x288 with 1 Axes>"
            ],
            "image/png": "[encoded data removed]"
          },
          "metadata": {
            "needs_background": "light"
          }
        }
      ]
    },
    {
      "cell_type": "code",
      "source": [
        "plt.plot(l1)\n",
        "plt.plot(l2)\n",
        "plt.plot(l3)\n",
        "plt.plot(l4)\n",
        "plt.plot(l5)\n",
        "plt.show()"
      ],
      "metadata": {
        "colab": {
          "base_uri": "https://localhost:8080/",
          "height": 265
        },
        "id": "qXiYBuJFocs7",
        "outputId": "2d872b60-3232-4dd7-c156-a28eaf5ef628"
      },
      "execution_count": null,
      "outputs": [
        {
          "output_type": "display_data",
          "data": {
            "text/plain": [
              "<Figure size 432x288 with 1 Axes>"
            ],
            "image/png": "[encoded data removed]"
          },
          "metadata": {
            "needs_background": "light"
          }
        }
      ]
    },
    {
      "cell_type": "code",
      "source": [
        "# observations :-\n",
        "# 1 - max on saturday\n",
        "# 2 - max on sunday\n",
        "# 3 - max on thursday\n",
        "# 4 - max on friday\n",
        "# 5 - max on tuesday"
      ],
      "metadata": {
        "id": "d520Azyzp5Je"
      },
      "execution_count": null,
      "outputs": []
    },
    {
      "cell_type": "code",
      "source": [
        "sunday=0\n",
        "monday=0\n",
        "tuesday=0\n",
        "wednesday=0\n",
        "thursday=0\n",
        "friday=0\n",
        "saturday=0\n",
        "zone_dict = {}"
      ],
      "metadata": {
        "id": "CAw8ehPb1UCP"
      },
      "execution_count": null,
      "outputs": []
    },
    {
      "cell_type": "code",
      "source": [
        "zone__dict= {}\n",
        "for i in data.index :\n",
        "  zone = data['Zone'][i]\n",
        "  current = 1.1\n",
        "  min_day = 'Sunday'\n",
        "  for j in sundf.index :\n",
        "    if sundf['Zone'][j] == zone :\n",
        "      if current > sundf['Traffic'][j] :\n",
        "        current = sundf['Traffic'][j]\n",
        "        min_day = 'Sunday'\n",
        "        break\n",
        "      else :\n",
        "        break\n",
        "    else :\n",
        "      continue\n",
        "  for j in mondf.index :\n",
        "    if mondf['Zone'][j] == zone :\n",
        "      if current > mondf['Traffic'][j] :\n",
        "        current = mondf['Traffic'][j]\n",
        "        min_day = 'Monday'\n",
        "        break\n",
        "      else :\n",
        "        break\n",
        "    else :\n",
        "      continue\n",
        "  for j in tuedf.index :\n",
        "    if tuedf['Zone'][j] == zone :\n",
        "      if current > tuedf['Traffic'][j] :\n",
        "        current = tuedf['Traffic'][j]\n",
        "        min_day = 'Tuesday'\n",
        "        break\n",
        "      else :\n",
        "        break\n",
        "    else :\n",
        "      continue\n",
        "  for j in weddf.index :\n",
        "    if weddf['Zone'][j] == zone :\n",
        "      if current > weddf['Traffic'][j] :\n",
        "        current = weddf['Traffic'][j]\n",
        "        min_day = 'Wednesday'\n",
        "        break\n",
        "      else :\n",
        "        break\n",
        "    else :\n",
        "      continue\n",
        "  for j in thudf.index :\n",
        "    if thudf['Zone'][j] == zone :\n",
        "      if current > thudf['Traffic'][j] :\n",
        "        current = thudf['Traffic'][j]\n",
        "        min_day = 'Thursday'\n",
        "        break\n",
        "      else :\n",
        "        break\n",
        "    else :\n",
        "      continue\n",
        "  for j in fridf.index :\n",
        "    if fridf['Zone'][j] == zone :\n",
        "      if current > fridf['Traffic'][j] :\n",
        "        current = fridf['Traffic'][j]\n",
        "        min_day = 'Friday'\n",
        "        break\n",
        "      else :\n",
        "        break\n",
        "    else :\n",
        "      continue\n",
        "  for j in satdf.index :\n",
        "    if satdf['Zone'][j] == zone :\n",
        "      if current > satdf['Traffic'][j] :\n",
        "        current = satdf['Traffic'][j]\n",
        "        min_day = 'Saturday'\n",
        "        break\n",
        "      else :\n",
        "        break\n",
        "    else :\n",
        "      continue\n",
        "  if zone not in zone__dict :\n",
        "    zone__dict[zone] = min_day\n",
        "print(zone__dict)\n",
        "\n",
        "\n",
        "\n"
      ],
      "metadata": {
        "colab": {
          "base_uri": "https://localhost:8080/"
        },
        "id": "myd-vCK03knn",
        "outputId": "db55434f-d381-4a5f-d5d4-7ad41187ea91"
      },
      "execution_count": null,
      "outputs": [
        {
          "output_type": "stream",
          "name": "stdout",
          "text": [
            "{1: 'Sunday', 2: 'Sunday', 3: 'Tuesday', 4: 'Sunday', 5: 'Sunday', 6: 'Thursday', 7: 'Sunday', 8: 'Sunday', 9: 'Monday', 10: 'Tuesday', 11: 'Sunday', 12: 'Sunday', 13: 'Sunday', 14: 'Monday', 15: 'Monday', 16: 'Sunday', 17: 'Wednesday', 18: 'Sunday', 19: 'Sunday', 20: 'Sunday', 21: 'Monday', 22: 'Sunday', 23: 'Tuesday', 24: 'Sunday', 25: 'Sunday', 26: 'Sunday', 27: 'Monday', 28: 'Sunday', 29: 'Sunday', 30: 'Saturday', 31: 'Thursday', 32: 'Monday', 33: 'Monday', 34: 'Sunday', 35: 'Sunday', 36: 'Sunday', 37: 'Sunday', 38: 'Wednesday', 39: 'Wednesday', 40: 'Sunday', 41: 'Friday', 42: 'Sunday', 43: 'Sunday', 44: 'Wednesday', 45: 'Monday', 46: 'Sunday', 47: 'Tuesday', 48: 'Tuesday', 49: 'Sunday', 50: 'Sunday', 51: 'Wednesday', 52: 'Sunday', 53: 'Monday', 54: 'Sunday', 55: 'Monday', 56: 'Saturday', 57: 'Sunday', 58: 'Tuesday', 59: 'Sunday', 60: 'Friday', 61: 'Friday', 62: 'Sunday', 63: 'Sunday', 64: 'Friday', 65: 'Sunday', 66: 'Monday', 67: 'Sunday', 68: 'Friday', 69: 'Friday', 70: 'Sunday', 71: 'Monday', 72: 'Sunday', 73: 'Sunday', 74: 'Tuesday', 75: 'Sunday', 76: 'Wednesday', 77: 'Monday', 78: 'Sunday', 79: 'Tuesday', 80: 'Tuesday', 81: 'Sunday', 82: 'Monday', 83: 'Sunday', 84: 'Wednesday', 85: 'Wednesday', 86: 'Sunday', 87: 'Monday', 88: 'Wednesday', 89: 'Wednesday', 90: 'Tuesday', 91: 'Tuesday', 92: 'Sunday', 93: 'Sunday', 94: 'Sunday', 95: 'Sunday', 96: 'Monday', 97: 'Sunday', 98: 'Sunday', 99: 'Sunday', 100: 'Tuesday', 101: 'Sunday', 102: 'Monday', 103: 'Tuesday', 104: 'Thursday', 105: 'Sunday', 106: 'Monday', 107: 'Tuesday', 108: 'Wednesday', 109: 'Tuesday', 110: 'Tuesday', 111: 'Sunday', 112: 'Tuesday', 113: 'Monday', 114: 'Sunday', 115: 'Sunday', 116: 'Wednesday', 117: 'Saturday', 118: 'Sunday', 119: 'Sunday', 120: 'Friday', 121: 'Monday', 122: 'Sunday', 123: 'Tuesday', 124: 'Sunday', 125: 'Friday', 126: 'Sunday', 127: 'Wednesday', 128: 'Sunday', 129: 'Sunday', 130: 'Friday', 131: 'Sunday', 132: 'Tuesday', 133: 'Tuesday', 134: 'Saturday', 135: 'Wednesday', 136: 'Monday', 137: 'Tuesday', 138: 'Sunday', 139: 'Thursday', 140: 'Sunday', 141: 'Sunday', 142: 'Wednesday', 143: 'Friday', 144: 'Sunday'}\n"
          ]
        }
      ]
    },
    {
      "cell_type": "code",
      "source": [
        "from sklearn.preprocessing import StandardScaler\n",
        "cd = input(\"enter coded day\")\n",
        "z = input(\"enter zone\")\n",
        "w = input(\"enter weather code\")\n",
        "temp = input(\"enter temperature\")\n",
        "x_input = np.array([[cd,z,w,temp]])\n",
        "x_minmax = sc.fit_transform(x_input)\n",
        "y__pred = regressor.predict(x_minmax)\n",
        "# print(y__pred)\n",
        "if (y__pred.all()<2.5) :\n",
        "  y__pred = np.round(y__pred-0.5)\n",
        "else :\n",
        "  y__pred = np.round(y__pred+0.5)\n",
        "y__pred = int(y__pred)\n",
        "print('Predicted traffic rate is '+str(y__pred))"
      ],
      "metadata": {
        "colab": {
          "base_uri": "https://localhost:8080/"
        },
        "id": "7H3FSG2yD_tB",
        "outputId": "cfabb489-b2cd-4a45-d2c5-0864a4e6df76"
      },
      "execution_count": null,
      "outputs": [
        {
          "output_type": "stream",
          "name": "stdout",
          "text": [
            "enter coded day3\n",
            "enter zone5\n",
            "enter weather code20\n",
            "enter temperature22\n",
            "Predicted traffic rate is 3\n"
          ]
        }
      ]
    },
    {
      "cell_type": "code",
      "source": [
        "# tinker code\n",
        "# zone_dict = {1: 'Sunday', 2: 'Sunday', 3: 'Tuesday', 4: 'Sunday', 5: 'Sunday', 6: 'Thursday', 7: 'Sunday', 8: 'Sunday', 9: 'Monday', 10: 'Tuesday', 11: 'Sunday', 12: 'Sunday', 13: 'Sunday', 14: 'Monday', 15: 'Monday', 16: 'Sunday', 17: 'Wednesday', 18: 'Sunday', 19: 'Sunday', 20: 'Sunday', 21: 'Monday', 22: 'Sunday', 23: 'Tuesday', 24: 'Sunday', 25: 'Sunday', 26: 'Sunday', 27: 'Monday', 28: 'Sunday', 29: 'Sunday', 30: 'Saturday', 31: 'Thursday', 32: 'Monday', 33: 'Monday', 34: 'Sunday', 35: 'Sunday', 36: 'Sunday', 37: 'Sunday', 38: 'Wednesday', 39: 'Wednesday', 40: 'Sunday', 41: 'Friday', 42: 'Sunday', 43: 'Sunday', 44: 'Wednesday', 45: 'Monday', 46: 'Sunday', 47: 'Tuesday', 48: 'Tuesday', 49: 'Sunday', 50: 'Sunday', 51: 'Wednesday', 52: 'Sunday', 53: 'Monday', 54: 'Sunday', 55: 'Monday', 56: 'Saturday', 57: 'Sunday', 58: 'Tuesday', 59: 'Sunday', 60: 'Friday', 61: 'Friday', 62: 'Sunday', 63: 'Sunday', 64: 'Friday', 65: 'Sunday', 66: 'Monday', 67: 'Sunday', 68: 'Friday', 69: 'Friday', 70: 'Sunday', 71: 'Monday', 72: 'Sunday', 73: 'Sunday', 74: 'Tuesday', 75: 'Sunday', 76: 'Wednesday', 77: 'Monday', 78: 'Sunday', 79: 'Tuesday', 80: 'Tuesday', 81: 'Sunday', 82: 'Monday', 83: 'Sunday', 84: 'Wednesday', 85: 'Wednesday', 86: 'Sunday', 87: 'Monday', 88: 'Wednesday', 89: 'Wednesday', 90: 'Tuesday', 91: 'Tuesday', 92: 'Sunday', 93: 'Sunday', 94: 'Sunday', 95: 'Sunday', 96: 'Monday', 97: 'Sunday', 98: 'Sunday', 99: 'Sunday', 100: 'Tuesday', 101: 'Sunday', 102: 'Monday', 103: 'Tuesday', 104: 'Thursday', 105: 'Sunday', 106: 'Monday', 107: 'Tuesday', 108: 'Wednesday', 109: 'Tuesday', 110: 'Tuesday', 111: 'Sunday', 112: 'Tuesday', 113: 'Monday', 114: 'Sunday', 115: 'Sunday', 116: 'Wednesday', 117: 'Saturday', 118: 'Sunday', 119: 'Sunday', 120: 'Friday', 121: 'Monday', 122: 'Sunday', 123: 'Tuesday', 124: 'Sunday', 125: 'Friday', 126: 'Sunday', 127: 'Wednesday', 128: 'Sunday', 129: 'Sunday', 130: 'Friday', 131: 'Sunday', 132: 'Tuesday', 133: 'Tuesday', 134: 'Saturday', 135: 'Wednesday', 136: 'Monday', 137: 'Tuesday', 138: 'Sunday', 139: 'Thursday', 140: 'Sunday', 141: 'Sunday', 142: 'Wednesday', 143: 'Friday', 144: 'Sunday'}\n",
        "# from tkinter import *\n",
        "# root = Tk()\n",
        "\n",
        "# e= Entry(root, width=50)\n",
        "# e.pack()\n",
        "# e.insert(0, \"Enter the zone you want to go to :\")\n",
        "# def myClick() :\n",
        "#     tk_zone = e.get()\n",
        "#     tk_zone=tk_zone.strip(\"Enter the zone you want to go to :\")\n",
        "#     tk_zone = int(tk_zone)\n",
        "#     tk_day = zone_dict[tk_zone]\n",
        "#     day = \"Easiest day to go to zone \"+str(tk_zone)+\" is : \" + tk_day\n",
        "#     myLabel = Label(root, text = day)\n",
        "#     myLabel.pack()\n",
        "# myButton = Button(root, text = \"Get Day\", command = myClick)\n",
        "# myButton.pack()\n",
        "# root.mainloop()\n"
      ],
      "metadata": {
        "id": "SBj3ytH86Jku"
      },
      "execution_count": null,
      "outputs": []
    }
  ]
}